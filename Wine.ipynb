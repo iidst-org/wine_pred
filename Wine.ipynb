{
  "cells": [
    {
      "cell_type": "markdown",
      "metadata": {
        "colab_type": "text",
        "id": "YhU7jK09WjZi"
      },
      "source": [
        "# Quality Model"
      ]
    },
    {
      "cell_type": "markdown",
      "metadata": {
        "colab_type": "text",
        "id": "9xZ4Z2pKWjZm"
      },
      "source": [
        "# Exploratory Data Analysis and Visualisation"
      ]
    },
    {
      "cell_type": "code",
      "execution_count": null,
      "metadata": {
        "colab": {},
        "colab_type": "code",
        "id": "yQxTKrf1WjZo"
      },
      "outputs": [],
      "source": [
        "\n",
        "# Importing the libraries\n",
        "import numpy as np\n",
        "import matplotlib.pyplot as plt\n",
        "import pandas as pd\n",
        "import seaborn as sns\n",
        "%matplotlib inline\n",
        "import time\n",
        "import random\n",
        "\n",
        "random.seed(100)\n"
      ]
    },
    {
      "cell_type": "code",
      "execution_count": null,
      "metadata": {
        "colab": {},
        "colab_type": "code",
        "id": "8tz7QjH-WjZy"
      },
      "outputs": [],
      "source": [
        "\n",
        "\n",
        "# Importing the dataset\n",
        "wine = pd.read_csv('winequality.csv')"
      ]
    },
    {
      "cell_type": "code",
      "execution_count": null,
      "metadata": {
        "colab": {
          "base_uri": "https://localhost:8080/",
          "height": 223
        },
        "colab_type": "code",
        "id": "OATDmwAAWjZ4",
        "outputId": "147eb6ea-9312-4c9f-8ae4-49842206f80f"
      },
      "outputs": [],
      "source": [
        "wine.head()"
      ]
    },
    {
      "cell_type": "code",
      "execution_count": null,
      "metadata": {
        "colab": {
          "base_uri": "https://localhost:8080/",
          "height": 72
        },
        "colab_type": "code",
        "id": "3F6Jav7vWjZ_",
        "outputId": "43d99039-1e5a-4254-b1c1-19cd4ed3428b"
      },
      "outputs": [],
      "source": [
        "# #Making binary classificaion for the response variable.\n",
        "from sklearn.preprocessing import LabelEncoder\n",
        "bins = (2, 6.5, 8)\n",
        "group_names = ['bad', 'good']\n",
        "wine['quality'] = pd.cut(wine['quality'], bins = bins, labels = group_names)\n",
        "label_quality = LabelEncoder()\n",
        "wine['quality'] = label_quality.fit_transform(wine['quality'])\n",
        "wine['quality'].value_counts()\n"
      ]
    },
    {
      "cell_type": "code",
      "execution_count": null,
      "metadata": {
        "colab": {
          "base_uri": "https://localhost:8080/",
          "height": 297
        },
        "colab_type": "code",
        "id": "0NlCspZ2WjaE",
        "outputId": "89518b9f-ca90-49f5-c272-95abe0cd1969"
      },
      "outputs": [],
      "source": [
        "\n",
        "#plotting the response variable\n",
        "sns.countplot(wine['quality'])\n"
      ]
    },
    {
      "cell_type": "code",
      "execution_count": null,
      "metadata": {
        "colab": {
          "base_uri": "https://localhost:8080/",
          "height": 90
        },
        "colab_type": "code",
        "id": "vNjVBv7nWjaK",
        "outputId": "66fc47cb-b8b0-4dda-dc5c-d205b55ae496"
      },
      "outputs": [],
      "source": [
        "wine.columns"
      ]
    },
    {
      "cell_type": "code",
      "execution_count": null,
      "metadata": {
        "colab": {
          "base_uri": "https://localhost:8080/",
          "height": 1000
        },
        "colab_type": "code",
        "id": "0aAgZUbJWjaP",
        "outputId": "e556b590-f030-4067-9d1a-1f9f2359a3e4"
      },
      "outputs": [],
      "source": [
        "sns.pairplot(wine)"
      ]
    },
    {
      "cell_type": "code",
      "execution_count": null,
      "metadata": {
        "colab": {
          "base_uri": "https://localhost:8080/",
          "height": 335
        },
        "colab_type": "code",
        "id": "wFUYIZH6WjaT",
        "outputId": "994f5f62-b20a-4651-e918-8383dbd1b3f9"
      },
      "outputs": [],
      "source": [
        "wine[wine.columns[:11]].describe()"
      ]
    },
    {
      "cell_type": "code",
      "execution_count": null,
      "metadata": {
        "colab": {
          "base_uri": "https://localhost:8080/",
          "height": 591
        },
        "colab_type": "code",
        "id": "00Cn0AUbWjaY",
        "outputId": "3d3b4252-ef4f-496e-fc40-bbb130b6e2b4"
      },
      "outputs": [],
      "source": [
        "## Histograms\n",
        "fig = plt.figure(figsize=(15, 12))\n",
        "plt.suptitle('Histograms of Numerical Columns', fontsize=20)\n",
        "for i in range(wine.shape[1]):\n",
        "    plt.subplot(6, 3, i + 1)\n",
        "    f = plt.gca()\n",
        "    f.set_title(wine.columns.values[i])\n",
        "\n",
        "    vals = np.size(wine.iloc[:, i].unique())\n",
        "    if vals >= 100:\n",
        "        vals = 100\n",
        "    \n",
        "    plt.hist(wine.iloc[:, i], bins=vals, color='#3F5D7D')\n",
        "plt.tight_layout(rect=[0, 0.03, 1, 0.95])"
      ]
    },
    {
      "cell_type": "code",
      "execution_count": null,
      "metadata": {
        "colab": {
          "base_uri": "https://localhost:8080/",
          "height": 253
        },
        "colab_type": "code",
        "id": "gLQgbwdLWjac",
        "outputId": "a6ccd138-7150-4d23-df26-d8bee369ebcd"
      },
      "outputs": [],
      "source": [
        "wine.isna().any()"
      ]
    },
    {
      "cell_type": "code",
      "execution_count": null,
      "metadata": {
        "colab": {
          "base_uri": "https://localhost:8080/",
          "height": 689
        },
        "colab_type": "code",
        "id": "jhPnekamWjah",
        "outputId": "c47c30be-c6bf-4cb9-8c23-3b940eea5de1"
      },
      "outputs": [],
      "source": [
        "#Correlation with Quality with respect to attributes\n",
        "wine.corrwith(wine.quality).plot.bar(\n",
        "        figsize = (20, 10), title = \"Correlation with quality\", fontsize = 15,\n",
        "        rot = 45, grid = True)"
      ]
    },
    {
      "cell_type": "code",
      "execution_count": null,
      "metadata": {
        "colab": {},
        "colab_type": "code",
        "id": "QfplpwB9Wjal"
      },
      "outputs": [],
      "source": [
        "## Correlation Matrix\n",
        "sns.set(style=\"white\")\n",
        "\n",
        "# Compute the correlation matrix\n",
        "corr = wine.corr()"
      ]
    },
    {
      "cell_type": "code",
      "execution_count": null,
      "metadata": {
        "colab": {
          "base_uri": "https://localhost:8080/",
          "height": 293
        },
        "colab_type": "code",
        "id": "Ek7mYuEaWjap",
        "outputId": "8e050ddd-cb34-4459-dcc8-794bfd8b106d"
      },
      "outputs": [],
      "source": [
        "corr.head()"
      ]
    },
    {
      "cell_type": "code",
      "execution_count": null,
      "metadata": {
        "colab": {
          "base_uri": "https://localhost:8080/",
          "height": 966
        },
        "colab_type": "code",
        "id": "hAE5r_j-Wjat",
        "outputId": "221448d7-00d8-455b-d7e1-52ab8e2afc3e"
      },
      "outputs": [],
      "source": [
        "# Generate a mask for the upper triangle\n",
        "mask = np.zeros_like(corr, dtype=np.bool)\n",
        "mask[np.triu_indices_from(mask)] = True\n",
        "\n",
        "# Set up the matplotlib figure\n",
        "f, ax = plt.subplots(figsize=(18, 15))\n",
        "\n",
        "# Generate a custom diverging colormap\n",
        "cmap = sns.diverging_palette(220, 10, as_cmap=True)\n",
        "\n",
        "# Draw the heatmap with the mask and correct aspect ratio\n",
        "sns.heatmap(corr, mask=mask, cmap=cmap, vmax=.3, center=0,\n",
        "            square=True, linewidths=.5, cbar_kws={\"shrink\": .5})"
      ]
    },
    {
      "cell_type": "markdown",
      "metadata": {
        "colab_type": "text",
        "id": "InQ_OfTLWjay"
      },
      "source": [
        "# Feature Enggineering"
      ]
    },
    {
      "cell_type": "code",
      "execution_count": null,
      "metadata": {
        "colab": {},
        "colab_type": "code",
        "id": "4xImeoMCWjaz"
      },
      "outputs": [],
      "source": [
        "#Assigning and dividing the dataset\n",
        "X = wine.drop('quality',axis=1)\n",
        "y=wine['quality']"
      ]
    },
    {
      "cell_type": "code",
      "execution_count": null,
      "metadata": {
        "colab": {
          "base_uri": "https://localhost:8080/",
          "height": 223
        },
        "colab_type": "code",
        "id": "sySiwj12Wja2",
        "outputId": "77dee07b-1423-4d21-812f-06d9d51e979a"
      },
      "outputs": [],
      "source": [
        "X.head()"
      ]
    },
    {
      "cell_type": "code",
      "execution_count": null,
      "metadata": {
        "colab": {
          "base_uri": "https://localhost:8080/",
          "height": 126
        },
        "colab_type": "code",
        "id": "3rdfVX68Wja6",
        "outputId": "ede624c7-afa9-4999-85cb-b128420f9f65"
      },
      "outputs": [],
      "source": [
        "y.head()"
      ]
    },
    {
      "cell_type": "code",
      "execution_count": null,
      "metadata": {
        "colab": {
          "base_uri": "https://localhost:8080/",
          "height": 90
        },
        "colab_type": "code",
        "id": "0seCJYPLWja_",
        "outputId": "f4dc2789-41bb-482c-d57e-7e1140dc7c61"
      },
      "outputs": [],
      "source": [
        "wine.columns[:11]"
      ]
    },
    {
      "cell_type": "code",
      "execution_count": null,
      "metadata": {
        "colab": {},
        "colab_type": "code",
        "id": "IYlKkuNLWjbD"
      },
      "outputs": [],
      "source": [
        "features_label = wine.columns[:11]"
      ]
    },
    {
      "cell_type": "code",
      "execution_count": null,
      "metadata": {
        "colab": {
          "base_uri": "https://localhost:8080/",
          "height": 217
        },
        "colab_type": "code",
        "id": "-j4gdlucWjbH",
        "outputId": "a84504c2-07c8-4527-8121-e5187d5bb2f4"
      },
      "outputs": [],
      "source": [
        "#Fitting Random Forest Classification to the Training set\n",
        "from sklearn.ensemble import RandomForestClassifier\n",
        "classifier = RandomForestClassifier(n_estimators = 200, criterion = 'entropy', random_state = 0)\n",
        "classifier.fit(X, y)\n",
        "importances = classifier.feature_importances_\n",
        "indices = np. argsort(importances)[::-1]\n",
        "for i in range(X.shape[1]):\n",
        "    print (\"%2d) %-*s %f\" % (i + 1, 30, features_label[i],importances[indices[i]]))"
      ]
    },
    {
      "cell_type": "code",
      "execution_count": null,
      "metadata": {
        "colab": {
          "base_uri": "https://localhost:8080/",
          "height": 377
        },
        "colab_type": "code",
        "id": "EVQAGvYCWjbM",
        "outputId": "e7b31889-e11a-437f-dacb-5a8cee541568"
      },
      "outputs": [],
      "source": [
        "plt.title('Feature Importances')\n",
        "plt.bar(range(X.shape[1]),importances[indices], color=\"green\", align=\"center\")\n",
        "plt.xticks(range(X.shape[1]),features_label, rotation=90)\n",
        "plt.xlim([-1, X.shape[1]])\n",
        "plt.show()"
      ]
    },
    {
      "cell_type": "code",
      "execution_count": null,
      "metadata": {
        "colab": {},
        "colab_type": "code",
        "id": "RH2z8UR2WjbU"
      },
      "outputs": [],
      "source": [
        "\n",
        "# Splitting the dataset into the Training set and Test set\n",
        "from sklearn.model_selection  import train_test_split\n",
        "X_train, X_test, y_train, y_test = train_test_split(X, y, test_size = 0.20, random_state = 5)"
      ]
    },
    {
      "cell_type": "code",
      "execution_count": null,
      "metadata": {
        "colab": {},
        "colab_type": "code",
        "id": "G8WsfMlGWjbZ"
      },
      "outputs": [],
      "source": [
        "# Feature Scaling\n",
        "from sklearn.preprocessing import StandardScaler\n",
        "sc = StandardScaler()\n",
        "X_train2 = pd.DataFrame(sc.fit_transform(X_train))\n",
        "X_test2 = pd.DataFrame(sc.transform(X_test))\n",
        "X_train2.columns = X_train.columns.values\n",
        "X_test2.columns = X_test.columns.values\n",
        "X_train2.index = X_train.index.values\n",
        "X_test2.index = X_test.index.values\n",
        "X_train = X_train2\n",
        "X_test = X_test2"
      ]
    },
    {
      "cell_type": "code",
      "execution_count": null,
      "metadata": {
        "colab": {
          "base_uri": "https://localhost:8080/",
          "height": 108
        },
        "colab_type": "code",
        "id": "WdCxIPKEWjbd",
        "outputId": "a4e0b25f-0a62-4db2-8534-a0d5c6acc27b"
      },
      "outputs": [],
      "source": [
        "#Using Principal Dimensional Reduction\n",
        "from sklearn.decomposition import PCA\n",
        "pca = PCA(n_components = 4)\n",
        "X_train = pca.fit_transform(X_train)\n",
        "X_test = pca.transform(X_test)\n",
        "explained_variance = pca.explained_variance_ratio_\n",
        "print(pd.DataFrame(explained_variance))"
      ]
    },
    {
      "cell_type": "code",
      "execution_count": null,
      "metadata": {
        "colab": {
          "base_uri": "https://localhost:8080/",
          "height": 53
        },
        "colab_type": "code",
        "id": "nCOwzi3rWjbi",
        "outputId": "6245ca7b-3144-4032-a218-b6cd295345fa"
      },
      "outputs": [],
      "source": [
        "#### Model Building ####\n",
        "\n",
        "### Comparing Models\n",
        "\n",
        "## Logistic Regression\n",
        "from sklearn.linear_model import LogisticRegression\n",
        "classifier = LogisticRegression(random_state = 0)\n",
        "classifier.fit(X_train, y_train)\n",
        "\n",
        "# Predicting Test Set\n",
        "y_pred = classifier.predict(X_test)\n",
        "from sklearn.metrics import confusion_matrix, accuracy_score, f1_score, precision_score, recall_score\n",
        "acc = accuracy_score(y_test, y_pred)\n",
        "prec = precision_score(y_test, y_pred)\n",
        "rec = recall_score(y_test, y_pred)\n",
        "f1 = f1_score(y_test, y_pred)\n",
        "\n",
        "results = pd.DataFrame([['Logistic Regression', acc, prec, rec, f1]],\n",
        "               columns = ['Model', 'Accuracy', 'Precision', 'Recall', 'F1 Score'])\n",
        "print(results)"
      ]
    },
    {
      "cell_type": "code",
      "execution_count": null,
      "metadata": {
        "colab": {
          "base_uri": "https://localhost:8080/",
          "height": 128
        },
        "colab_type": "code",
        "id": "Q8b_akujWjbo",
        "outputId": "d9fdd9d5-1fef-4366-9516-32be58c8f0bd"
      },
      "outputs": [],
      "source": [
        "## SVM (Linear)\n",
        "from sklearn.svm import SVC\n",
        "classifier = SVC(random_state = 0, kernel = 'linear')\n",
        "classifier.fit(X_train, y_train)\n",
        "\n",
        "# Predicting Test Set\n",
        "y_pred = classifier.predict(X_test)\n",
        "acc = accuracy_score(y_test, y_pred)\n",
        "prec = precision_score(y_test, y_pred)\n",
        "rec = recall_score(y_test, y_pred)\n",
        "f1 = f1_score(y_test, y_pred)\n",
        "\n",
        "model_results = pd.DataFrame([['SVM (Linear)', acc, prec, rec, f1]],\n",
        "               columns = ['Model', 'Accuracy', 'Precision', 'Recall', 'F1 Score'])\n",
        "\n",
        "results = results.append(model_results, ignore_index = True)\n",
        "print(results)"
      ]
    },
    {
      "cell_type": "code",
      "execution_count": null,
      "metadata": {
        "colab": {
          "base_uri": "https://localhost:8080/",
          "height": 90
        },
        "colab_type": "code",
        "id": "QUKNIgcPWjbt",
        "outputId": "eeabda7d-258c-4363-cd7b-e9c857d9bf1d"
      },
      "outputs": [],
      "source": [
        "## SVM (rbf)\n",
        "from sklearn.svm import SVC\n",
        "classifier = SVC(random_state = 0, kernel = 'rbf')\n",
        "classifier.fit(X_train, y_train)\n",
        "\n",
        "# Predicting Test Set\n",
        "y_pred = classifier.predict(X_test)\n",
        "acc = accuracy_score(y_test, y_pred)\n",
        "prec = precision_score(y_test, y_pred)\n",
        "rec = recall_score(y_test, y_pred)\n",
        "f1 = f1_score(y_test, y_pred)\n",
        "\n",
        "model_results = pd.DataFrame([['SVM (RBF)', acc, prec, rec, f1]],\n",
        "               columns = ['Model', 'Accuracy', 'Precision', 'Recall', 'F1 Score'])\n",
        "\n",
        "results = results.append(model_results, ignore_index = True)\n",
        "print(results)"
      ]
    },
    {
      "cell_type": "code",
      "execution_count": null,
      "metadata": {
        "colab": {
          "base_uri": "https://localhost:8080/",
          "height": 108
        },
        "colab_type": "code",
        "id": "M1SmXGURWjbx",
        "outputId": "7e2a4d61-475d-4fb0-a8cb-a1fcbbb32cd1"
      },
      "outputs": [],
      "source": [
        "## Randomforest\n",
        "from sklearn.ensemble import RandomForestClassifier\n",
        "classifier = RandomForestClassifier(random_state = 0, n_estimators = 100,\n",
        "                                    criterion = 'entropy')\n",
        "classifier.fit(X_train, y_train)\n",
        "\n",
        "# Predicting Test Set\n",
        "y_pred = classifier.predict(X_test)\n",
        "acc = accuracy_score(y_test, y_pred)\n",
        "prec = precision_score(y_test, y_pred)\n",
        "rec = recall_score(y_test, y_pred)\n",
        "f1 = f1_score(y_test, y_pred)\n",
        "\n",
        "model_results = pd.DataFrame([['Random Forest (n=100)', acc, prec, rec, f1]],\n",
        "               columns = ['Model', 'Accuracy', 'Precision', 'Recall', 'F1 Score'])\n",
        "\n",
        "results = results.append(model_results, ignore_index = True)\n",
        "print(results)"
      ]
    },
    {
      "cell_type": "code",
      "execution_count": null,
      "metadata": {
        "colab": {},
        "colab_type": "code",
        "id": "WgXglxzYWjcm"
      },
      "outputs": [],
      "source": []
    },
    {
      "cell_type": "code",
      "execution_count": null,
      "metadata": {
        "colab": {},
        "colab_type": "code",
        "id": "iXu6wO8XWjcs"
      },
      "outputs": [],
      "source": []
    }
  ],
  "metadata": {
    "colab": {
      "name": "Wine.ipynb",
      "provenance": [],
      "toc_visible": true
    },
    "kernelspec": {
      "display_name": "Python 3",
      "language": "python",
      "name": "python3"
    },
    "language_info": {
      "codemirror_mode": {
        "name": "ipython",
        "version": 3
      },
      "file_extension": ".py",
      "mimetype": "text/x-python",
      "name": "python",
      "nbconvert_exporter": "python",
      "pygments_lexer": "ipython3",
      "version": "3.6.5"
    }
  },
  "nbformat": 4,
  "nbformat_minor": 0
}
